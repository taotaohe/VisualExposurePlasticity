{
 "cells": [
  {
   "cell_type": "code",
   "execution_count": null,
   "metadata": {},
   "outputs": [],
   "source": [
    "import sys, os, glob, warnings, time, datetime\n",
    "from math import sqrt\n",
    "import numpy as np\n",
    "import scipy, mne\n",
    "import pandas as pd\n",
    "import seaborn as sns\n",
    "import matplotlib.pyplot as plt\n",
    "from scipy import io, stats, interpolate\n",
    "%matplotlib inline\n",
    "from sklearn.pipeline import make_pipeline\n",
    "from sklearn.svm import LinearSVC, SVC\n",
    "from sklearn.linear_model import LogisticRegression\n",
    "from sklearn.model_selection import LeaveOneOut, cross_val_score, KFold, cross_val_predict\n",
    "from sklearn.preprocessing import StandardScaler, scale\n",
    "from scipy.signal import savgol_filter\n",
    "warnings.filterwarnings('ignore')"
   ]
  },
  {
   "cell_type": "code",
   "execution_count": null,
   "metadata": {},
   "outputs": [],
   "source": [
    "project_path = 'D:/Dropbox/Projects/featureReplay/'\n",
    "SUBJECTS = ['S01','S02','S03','S04','S05','S06','S07','S08','S09','S10',\n",
    "            'S11','S12','S13','S14','S15','S16','S17','S18','S19','S20',\n",
    "            'S21','S22','S23','S24','S25','S26','S27','S28','S29','S30',\n",
    "            'S31','S32','S33','S34','S35']\n",
    "\n",
    "# !! Important: if you only select one subject, you must still write as [n-1:n]\n",
    "selected_subj = SUBJECTS[:18]\n",
    "n_subjects    = len(selected_subj)\n",
    "print(['Running Subjects:'] + selected_subj)\n",
    "\n",
    "# Get selected channel index (occipital)\n",
    "chans_all       = np.loadtxt(project_path + 'data_v5/misc_data/channels_all.txt', dtype='str')\n",
    "chans_occipital = np.loadtxt(project_path + 'data_v5/misc_data/occipital_channels.txt', dtype='str')\n",
    "chans_without_frontal = np.loadtxt(project_path + 'data_v5/misc_data/channels_without_frontal.txt', dtype='str')\n",
    "chans_idx       = np.where(np.in1d(chans_all, chans_occipital) == True)[0]\n",
    "\n",
    "optimal_time_matrix = np.load(project_path + 'data_v5/saved_source_data/optimal_time_idx_occipital_acc_matrix.npy')\n",
    "actual_subj = ['S01','S02','S03','S04','S05','S06','S07','S08','S09','S10','S11','S12','S13','S14','S15','S16','S17','S18','S19','S20','S22','S23','S24','S25']\n",
    "subj_idx = np.nonzero(np.in1d(selected_subj, selected_subj))[0]"
   ]
  },
  {
   "cell_type": "markdown",
   "metadata": {},
   "source": [
    "### Loading data for plotting"
   ]
  },
  {
   "cell_type": "code",
   "execution_count": null,
   "metadata": {},
   "outputs": [],
   "source": [
    "f_mat = scipy.io.loadmat(project_path + 'data_v5/saved_source_data/preds_modelTrain.mat')\n",
    "proba = f_mat['preds']*100 # n_subjs, n_true_label, n_predict, n_times\n",
    "proba_mean = np.mean(proba, axis=0)\n",
    "proba_sem  = stats.sem(proba, axis=0)\n",
    "\n",
    "f_mat = scipy.io.loadmat(project_path + 'data_v5/saved_source_data/preds_modelTrain_perm.mat')\n",
    "proba_perm = f_mat['preds_perm']*100 # n_subjs, n_permutation_times, n_true_label, n_predict, n_times\n",
    "percentile = np.percentile(proba_perm, 95, axis=1) # supra-threshold 95% across permutation_times\n",
    "percentile2 = np.percentile(percentile, 95, axis=3) # supra-threshold 95% across time points\n",
    "percentile_mean = np.mean(percentile2, axis=(0,2))\n",
    "\n",
    "times = np.tile(np.arange(proba.shape[3]),(4,1)).T"
   ]
  },
  {
   "cell_type": "markdown",
   "metadata": {},
   "source": [
    "### Plot mean decoding probability"
   ]
  },
  {
   "cell_type": "code",
   "execution_count": null,
   "metadata": {},
   "outputs": [],
   "source": [
    "# shift all decoding probabilities at the optimal time point to an arbitrary 200 ms (index = 125)\n",
    "proba_shifted = np.zeros(proba.shape)\n",
    "for isubj in range(n_subjects):\n",
    "    for ilabel in range(4): # true label\n",
    "        proba_shifted[isubj,ilabel,:,:] = np.roll(proba[isubj,ilabel,:,:], 125-int(optimal_time_matrix[subj_idx[isubj],ilabel]), axis=1)\n",
    "\n",
    "# calculate mean, SEM etc.\n",
    "proba_mean_shifted = np.mean(proba_shifted, axis=0)\n",
    "proba_sem_shifted = stats.sem(proba_shifted, axis=0)"
   ]
  },
  {
   "cell_type": "code",
   "execution_count": null,
   "metadata": {},
   "outputs": [],
   "source": [
    "# start plotting here\n",
    "fig, axs = plt.subplots(nrows=1,ncols=4,sharex=True,sharey=True,figsize=(4*6, 1*6))\n",
    "plt.rcParams[\"font.family\"] = \"arial\"\n",
    "\n",
    "for i in range(4): # true label\n",
    "    ax = axs[i]\n",
    "    \n",
    "    for j in range(4): # predicted label probability\n",
    "        if i == 0: # plot legend in fig.1 only\n",
    "            ax.plot(proba_mean_shifted[i,j], lw=1.5, label='Model %s$^{\\circ}$' %(j*90))\n",
    "            ax.legend(loc=1,fontsize=14,frameon=False)\n",
    "        else:\n",
    "            ax.plot(proba_mean_shifted[i,j], lw=1.5)\n",
    "        ax.fill_between(times[:,j], proba_mean_shifted[i,j]-proba_sem_shifted[i,j], proba_mean_shifted[i,j]+proba_sem_shifted[i,j], edgecolor='none',alpha=.35)\n",
    "\n",
    "    ax.text(1, 23, 'true label = %s$^{\\circ}$' %(i*90), fontsize=14)\n",
    "    ax.axhline(percentile_mean[i], color='k', linestyle='--', alpha=0.5, lw=1.5)\n",
    "\n",
    "    ax.set_xticks(np.arange(25,proba.shape[3]+1, step=50)) # convert volumes to seconds\n",
    "    ax.set_xticklabels(('-0.2', '0', '0.2', '0.4', '0.6', '0.8', '1.0'))\n",
    "    ax.set_ylim([7, 25])\n",
    "    ax.set_xlabel('Time relative to stimulus onset (s)', fontsize=14);\n",
    "    ax.set_ylabel('Predicted probability (%)', fontsize=14);\n",
    "    ax.spines['right'].set_visible(False)\n",
    "    ax.spines['top'].set_visible(False)\n",
    "    ax.tick_params(axis = 'both', which = 'major', direction='in', top=False, right=False, labelsize = 14)\n",
    "\n",
    "## save figures\n",
    "save_figure = False\n",
    "if save_figure:\n",
    "    fig_path = project_path + '/data_v5/saved_figures/modelTrain_rs250_ica_occipital/'\n",
    "    if not os.path.exists(fig_path): os.makedirs(fig_path);\n",
    "    fig.savefig(fig_path+\"modelTrain_proba_mean_shifted_matrixOfAcc_raw.pdf\", bbox_inches='tight',dpi=300)"
   ]
  },
  {
   "cell_type": "markdown",
   "metadata": {},
   "source": [
    "### Plot the smoothed data for visualization"
   ]
  },
  {
   "cell_type": "code",
   "execution_count": null,
   "metadata": {},
   "outputs": [],
   "source": [
    "# start plotting here\n",
    "fig, axs = plt.subplots(nrows=1,ncols=4,sharex=True,sharey=True,figsize=(4*6, 1*6))\n",
    "plt.rcParams[\"font.family\"] = \"arial\"\n",
    "\n",
    "for i in range(4): # true label\n",
    "    ax = axs[i]\n",
    "    \n",
    "    for j in range(4): # predicted label probability\n",
    "        y_filtered = savgol_filter(proba_mean_shifted[i,j], window_length=7, polyorder=1) # Apply Savitzky-Golay filter \n",
    "        if i == 0: # plot legend in fig.1 only\n",
    "            ax.plot(y_filtered, lw=1.5, label='Model %s$^{\\circ}$' %(j*90))\n",
    "            ax.legend(loc=1,fontsize=14,frameon=False)\n",
    "        else:\n",
    "            ax.plot(y_filtered, lw=1.5)\n",
    "        ax.fill_between(times[:,j], y_filtered-proba_sem_shifted[i,j], y_filtered+proba_sem_shifted[i,j], edgecolor='none',alpha=.35)\n",
    "\n",
    "    ax.text(1, 23, 'true label = %s$^{\\circ}$' %(i*90), fontsize=14)\n",
    "    ax.axhline(percentile_mean[i], color='k', linestyle='--', alpha=0.5, lw=1.5)\n",
    "\n",
    "    ax.set_xticks(np.arange(25,proba.shape[3]+1, step=50)) # convert volumes to seconds\n",
    "    ax.set_xticklabels(('-0.2', '0', '0.2', '0.4', '0.6', '0.8', '1.0'))\n",
    "    ax.set_ylim([7, 25])\n",
    "    ax.set_xlabel('Time relative to stimulus onset (s)', fontsize=14);\n",
    "    ax.set_ylabel('Predicted probability (%)', fontsize=14);\n",
    "    ax.spines['right'].set_visible(False)\n",
    "    ax.spines['top'].set_visible(False)\n",
    "    ax.tick_params(axis = 'both', which = 'major', direction='in', top=False, right=False, labelsize = 14)\n",
    "\n",
    "## save figures\n",
    "save_figure = False\n",
    "if save_figure:\n",
    "    fig_path = project_path + '/data_v5/saved_figures/modelTrain_rs250_ica_occipital/'\n",
    "    if not os.path.exists(fig_path): os.makedirs(fig_path);\n",
    "    fig.savefig(fig_path+\"modelTrain_proba_mean_shifted_matrixOfAcc_smoothed.pdf\", bbox_inches='tight',dpi=300)"
   ]
  }
 ],
 "metadata": {
  "kernelspec": {
   "display_name": "Python 3 (ipykernel)",
   "language": "python",
   "name": "python3"
  },
  "language_info": {
   "codemirror_mode": {
    "name": "ipython",
    "version": 3
   },
   "file_extension": ".py",
   "mimetype": "text/x-python",
   "name": "python",
   "nbconvert_exporter": "python",
   "pygments_lexer": "ipython3",
   "version": "3.11.7"
  }
 },
 "nbformat": 4,
 "nbformat_minor": 4
}
